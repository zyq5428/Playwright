{
 "cells": [
  {
   "cell_type": "code",
   "execution_count": 5,
   "metadata": {},
   "outputs": [],
   "source": [
    "import asyncio\n",
    "from playwright.async_api import async_playwright\n",
    "from urllib.parse import urljoin\n",
    "from pyquery import PyQuery as pq\n",
    "import time\n",
    "import json\n",
    "import re\n",
    "from motor.motor_asyncio import AsyncIOMotorClient\n",
    "import logging\n",
    "\n",
    "logging.basicConfig(level=logging.INFO, format='%(asctime)s - %(levelname)s: %(message)s')"
   ]
  },
  {
   "cell_type": "code",
   "execution_count": 7,
   "metadata": {},
   "outputs": [],
   "source": [
    "BASE_URL = 'https://www.qzsc.cc/'\n",
    "cat_name = {\n",
    "    'xuanhuanxiaoshuo/': '玄幻',\n",
    "    'xiuzhenxiaoshuo/': '修真',\n",
    "    'dushixiaoshuo/': '都市',\n",
    "    }"
   ]
  },
  {
   "cell_type": "code",
   "execution_count": 8,
   "metadata": {},
   "outputs": [
    {
     "name": "stdout",
     "output_type": "stream",
     "text": [
      "xuanhuanxiaoshuo/ 玄幻\n",
      "<class 'str'> <class 'str'>\n",
      "https://www.qzsc.cc/xuanhuanxiaoshuo/\n",
      "xiuzhenxiaoshuo/ 修真\n",
      "<class 'str'> <class 'str'>\n",
      "https://www.qzsc.cc/xiuzhenxiaoshuo/\n",
      "dushixiaoshuo/ 都市\n",
      "<class 'str'> <class 'str'>\n",
      "https://www.qzsc.cc/dushixiaoshuo/\n"
     ]
    }
   ],
   "source": [
    "for key, value in cat_name.items():\n",
    "    print(key, value)\n",
    "    print(type(key), type(value))\n",
    "    url = urljoin(BASE_URL, key)\n",
    "    print(url)"
   ]
  },
  {
   "cell_type": "code",
   "execution_count": null,
   "metadata": {},
   "outputs": [],
   "source": []
  }
 ],
 "metadata": {
  "kernelspec": {
   "display_name": "base",
   "language": "python",
   "name": "python3"
  },
  "language_info": {
   "codemirror_mode": {
    "name": "ipython",
    "version": 3
   },
   "file_extension": ".py",
   "mimetype": "text/x-python",
   "name": "python",
   "nbconvert_exporter": "python",
   "pygments_lexer": "ipython3",
   "version": "3.11.3"
  }
 },
 "nbformat": 4,
 "nbformat_minor": 2
}
