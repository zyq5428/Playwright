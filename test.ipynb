{
 "cells": [
  {
   "cell_type": "code",
   "execution_count": 5,
   "metadata": {},
   "outputs": [],
   "source": [
    "import requests\n",
    "import asyncio\n",
    "from playwright.async_api import async_playwright\n",
    "from urllib.parse import urljoin\n",
    "from pyquery import PyQuery as pq\n",
    "import time\n",
    "import json\n",
    "import re\n",
    "from motor.motor_asyncio import AsyncIOMotorClient\n",
    "import logging\n",
    "from pprint import pprint\n",
    "import sys\n",
    "\n",
    "logging.basicConfig(level=logging.INFO, format='%(asctime)s - %(levelname)s: %(message)s')\n",
    "\n",
    "def scrape_page(url):\n",
    "    logging.info('scraping %s', url)\n",
    "    try:\n",
    "        response = requests.get(url)\n",
    "        if response.status_code == 200:\n",
    "            return response.json()\n",
    "        logging.info('get invalid status code %s while scraping %s', response.status_code, url)\n",
    "    except requests.RequestException:\n",
    "        logging.error('error occurred while scraping %s', url, exc_info=True)"
   ]
  },
  {
   "cell_type": "code",
   "execution_count": 21,
   "metadata": {},
   "outputs": [
    {
     "name": "stderr",
     "output_type": "stream",
     "text": [
      "2024-03-23 12:26:34,786 - INFO: scraping https://wapi.proxy.linkudp.com/api/white_list?neek=427888&appkey=30fe435f76fd09d1e5a6f001abd94361\n"
     ]
    },
    {
     "name": "stdout",
     "output_type": "stream",
     "text": [
      "{'code': 0,\n",
      " 'data': {'day_white_balance': 30,\n",
      "          'day_white_limit': 30,\n",
      "          'lists': [{'mark_ip': '113.87.80.88', 'updated_at': 1711167260},\n",
      "                    {'mark_ip': '113.87.80.66', 'updated_at': 1711167246},\n",
      "                    {'mark_ip': '113.87.80.33', 'updated_at': 1711167227},\n",
      "                    {'mark_ip': '113.87.80.99', 'updated_at': 1711166831},\n",
      "                    {'mark_ip': '120.25.240.33', 'updated_at': 1711166122}],\n",
      "          'mark': {'day_white_balance': '单日剩余修改白名单次数',\n",
      "                   'day_white_limit': '单日修改用户白名单总数',\n",
      "                   'lists': '白名单列表',\n",
      "                   'white': '白名单总数'},\n",
      "          'white': 5},\n",
      " 'msg': 'ok'}\n"
     ]
    }
   ],
   "source": [
    "Whitelist_API = 'https://wapi.proxy.linkudp.com/api/white_list?neek=427888&appkey=30fe435f76fd09d1e5a6f001abd94361'\n",
    "white_list_api = Whitelist_API\n",
    "list_json = scrape_page(white_list_api)\n",
    "pprint(list_json)"
   ]
  },
  {
   "cell_type": "code",
   "execution_count": 22,
   "metadata": {},
   "outputs": [
    {
     "name": "stderr",
     "output_type": "stream",
     "text": [
      "2024-03-23 12:27:13,242 - INFO: scraping https://wapi.http.linkudp.com/index/index/save_white?neek=427888&appkey=30fe435f76fd09d1e5a6f001abd94361&white=113.87.80.21\n",
      "2024-03-23 12:27:13,577 - INFO: Save ip to white list successed\n"
     ]
    }
   ],
   "source": [
    "your_ip = '113.87.80.21'\n",
    "Whiteset_API = 'https://wapi.http.linkudp.com/index/index/save_white?neek=427888&appkey=30fe435f76fd09d1e5a6f001abd94361&white='\n",
    "\n",
    "if list_json['code'] == 0:\n",
    "    lists = list_json['data']['lists']\n",
    "    white_list = []\n",
    "    for list in lists:\n",
    "        white_list.append(list['mark_ip'])\n",
    "    if your_ip in white_list:\n",
    "        logging.info('Your ip is exit')\n",
    "    else:\n",
    "        url = Whiteset_API + your_ip\n",
    "        result = scrape_page(url)\n",
    "        if result['code'] == 0:\n",
    "            logging.info('Save ip to white list successed')\n",
    "        else:\n",
    "            logging.error('Please check white list set error code:', result['code'])\n",
    "else:\n",
    "    logging.error('Withe list api is error %s', white_list_api)"
   ]
  },
  {
   "cell_type": "code",
   "execution_count": 23,
   "metadata": {},
   "outputs": [
    {
     "name": "stderr",
     "output_type": "stream",
     "text": [
      "2024-03-23 12:27:23,014 - INFO: scraping http://webapi.http.zhimacangku.com/getip?neek=860483b89fc4d67d&num=10&type=2&pro=&city=0&yys=0&port=11&time=4&ts=1&ys=1&cs=1&lb=1&sb=0&pb=4&mr=1&regions=\n"
     ]
    },
    {
     "name": "stdout",
     "output_type": "stream",
     "text": [
      "{'code': 0,\n",
      " 'data': [{'city': '浙江省杭州市萧山区',\n",
      "           'expire_time': '2024-03-23 12:31:53',\n",
      "           'ip': '183.128.97.182',\n",
      "           'isp': '电信',\n",
      "           'port': 4215},\n",
      "          {'city': '四川省绵阳市',\n",
      "           'expire_time': '2024-03-23 12:31:53',\n",
      "           'ip': '139.200.75.95',\n",
      "           'isp': '电信',\n",
      "           'port': 4283},\n",
      "          {'city': '湖北省黄冈市',\n",
      "           'expire_time': '2024-03-23 12:31:53',\n",
      "           'ip': '119.102.44.45',\n",
      "           'isp': '电信',\n",
      "           'port': 4213},\n",
      "          {'city': '河北省秦皇岛市',\n",
      "           'expire_time': '2024-03-23 12:31:53',\n",
      "           'ip': '123.181.235.235',\n",
      "           'isp': '电信',\n",
      "           'port': 4227},\n",
      "          {'city': '福建省漳州市',\n",
      "           'expire_time': '2024-03-23 12:31:53',\n",
      "           'ip': '59.60.140.194',\n",
      "           'isp': '电信',\n",
      "           'port': 4215},\n",
      "          {'city': '浙江省舟山市',\n",
      "           'expire_time': '2024-03-23 12:31:53',\n",
      "           'ip': '123.96.168.2',\n",
      "           'isp': '电信',\n",
      "           'port': 4236},\n",
      "          {'city': '湖北省随州市',\n",
      "           'expire_time': '2024-03-23 12:31:53',\n",
      "           'ip': '116.208.199.211',\n",
      "           'isp': '电信',\n",
      "           'port': 4213},\n",
      "          {'city': '山东省淄博市',\n",
      "           'expire_time': '2024-03-23 12:31:53',\n",
      "           'ip': '182.34.150.158',\n",
      "           'isp': '电信',\n",
      "           'port': 4214},\n",
      "          {'city': '浙江省嘉兴市',\n",
      "           'expire_time': '2024-03-23 12:31:53',\n",
      "           'ip': '183.141.7.81',\n",
      "           'isp': '电信',\n",
      "           'port': 4214},\n",
      "          {'city': '浙江省舟山市',\n",
      "           'expire_time': '2024-03-23 12:31:53',\n",
      "           'ip': '60.185.204.158',\n",
      "           'isp': '电信',\n",
      "           'port': 4213}],\n",
      " 'msg': '0',\n",
      " 'success': True}\n"
     ]
    }
   ],
   "source": [
    "Direct_IP = 'http://webapi.http.zhimacangku.com/getip?neek=860483b89fc4d67d&num=10&type=2&pro=&city=0&yys=0&port=11&time=4&ts=1&ys=1&cs=1&lb=1&sb=0&pb=4&mr=1&regions='\n",
    "ip_api = Direct_IP # 98\n",
    "data = scrape_page(ip_api)\n",
    "pprint(data)"
   ]
  },
  {
   "cell_type": "code",
   "execution_count": 37,
   "metadata": {},
   "outputs": [
    {
     "name": "stderr",
     "output_type": "stream",
     "text": [
      "2024-03-23 12:45:20,382 - INFO: 183.128.97.182:4215\n",
      "2024-03-23 12:45:20,382 - INFO: 139.200.75.95:4283\n",
      "2024-03-23 12:45:20,383 - INFO: 119.102.44.45:4213\n",
      "2024-03-23 12:45:20,383 - INFO: 123.181.235.235:4227\n",
      "2024-03-23 12:45:20,384 - INFO: 59.60.140.194:4215\n",
      "2024-03-23 12:45:20,385 - INFO: 123.96.168.2:4236\n",
      "2024-03-23 12:45:20,385 - INFO: 116.208.199.211:4213\n",
      "2024-03-23 12:45:20,386 - INFO: 182.34.150.158:4214\n",
      "2024-03-23 12:45:20,387 - INFO: 183.141.7.81:4214\n",
      "2024-03-23 12:45:20,387 - INFO: 60.185.204.158:4213\n"
     ]
    }
   ],
   "source": [
    "if data['code'] == 0:\n",
    "    servers = []\n",
    "    for item in data['data']:\n",
    "        ip = item['ip']\n",
    "        port = item['port']\n",
    "        server = ip + ':' + str(port)\n",
    "        logging.info(server)\n",
    "    return servers\n",
    "else:\n",
    "    "
   ]
  },
  {
   "cell_type": "code",
   "execution_count": 30,
   "metadata": {},
   "outputs": [
    {
     "data": {
      "text/plain": [
       "dict"
      ]
     },
     "execution_count": 30,
     "metadata": {},
     "output_type": "execute_result"
    }
   ],
   "source": [
    "type(data['data'][0])"
   ]
  },
  {
   "cell_type": "code",
   "execution_count": 5,
   "metadata": {},
   "outputs": [],
   "source": [
    "proxy = ['183.128.97.182:4215',\n",
    "         '139.200.75.95:4283',\n",
    "         '119.102.44.45:4213',\n",
    "         '123.181.235.235:4227',\n",
    "         '59.60.140.194:4215',\n",
    "         '123.96.168.2:4236',\n",
    "         '116.208.199.211:4213',\n",
    "         '182.34.150.158:4214',\n",
    "         '183.141.7.81:4214',\n",
    "         '60.185.204.158:4213'\n",
    "         ]"
   ]
  },
  {
   "cell_type": "code",
   "execution_count": 22,
   "metadata": {},
   "outputs": [],
   "source": [
    "PROXY_SERVER = ''\n",
    "PROXY_LIST = proxy\n",
    "\n",
    "def set_proxy():\n",
    "    global PROXY_LIST\n",
    "    global proxy\n",
    "    if len(PROXY_LIST) == 0:\n",
    "        PROXY_LIST = proxy\n",
    "        logging.info('list is: %s', PROXY_LIST)\n",
    "    PROXY_SERVER = PROXY_LIST[-1]\n",
    "    logging.info('server is : %s', PROXY_SERVER)\n",
    "    PROXY_LIST = PROXY_LIST[0:-1]"
   ]
  },
  {
   "cell_type": "code",
   "execution_count": 23,
   "metadata": {},
   "outputs": [
    {
     "name": "stderr",
     "output_type": "stream",
     "text": [
      "2024-03-26 17:02:38,813 - INFO: server is : 60.185.204.158:4213\n",
      "2024-03-26 17:02:38,815 - INFO: server is : 183.141.7.81:4214\n",
      "2024-03-26 17:02:38,815 - INFO: server is : 182.34.150.158:4214\n",
      "2024-03-26 17:02:38,816 - INFO: server is : 116.208.199.211:4213\n",
      "2024-03-26 17:02:38,817 - INFO: server is : 123.96.168.2:4236\n",
      "2024-03-26 17:02:38,818 - INFO: server is : 59.60.140.194:4215\n",
      "2024-03-26 17:02:38,819 - INFO: server is : 123.181.235.235:4227\n",
      "2024-03-26 17:02:38,820 - INFO: server is : 119.102.44.45:4213\n",
      "2024-03-26 17:02:38,821 - INFO: server is : 139.200.75.95:4283\n",
      "2024-03-26 17:02:38,821 - INFO: server is : 183.128.97.182:4215\n",
      "2024-03-26 17:02:38,823 - INFO: list is: ['183.128.97.182:4215', '139.200.75.95:4283', '119.102.44.45:4213', '123.181.235.235:4227', '59.60.140.194:4215', '123.96.168.2:4236', '116.208.199.211:4213', '182.34.150.158:4214', '183.141.7.81:4214', '60.185.204.158:4213']\n",
      "2024-03-26 17:02:38,824 - INFO: server is : 60.185.204.158:4213\n",
      "2024-03-26 17:02:38,824 - INFO: server is : 183.141.7.81:4214\n",
      "2024-03-26 17:02:38,825 - INFO: server is : 182.34.150.158:4214\n",
      "2024-03-26 17:02:38,826 - INFO: server is : 116.208.199.211:4213\n",
      "2024-03-26 17:02:38,826 - INFO: server is : 123.96.168.2:4236\n",
      "2024-03-26 17:02:38,827 - INFO: server is : 59.60.140.194:4215\n",
      "2024-03-26 17:02:38,828 - INFO: server is : 123.181.235.235:4227\n",
      "2024-03-26 17:02:38,828 - INFO: server is : 119.102.44.45:4213\n",
      "2024-03-26 17:02:38,828 - INFO: server is : 139.200.75.95:4283\n",
      "2024-03-26 17:02:38,829 - INFO: server is : 183.128.97.182:4215\n"
     ]
    }
   ],
   "source": [
    "for _ in range(20):\n",
    "    set_proxy()"
   ]
  },
  {
   "cell_type": "code",
   "execution_count": 24,
   "metadata": {},
   "outputs": [],
   "source": [
    "response = '''\n",
    "{\n",
    "  \"args\": {}, \n",
    "  \"headers\": {\n",
    "    \"Accept\": \"text/html,application/xhtml+xml,application/xml;q=0.9,image/avif,image/webp,image/apng,*/*;q=0.8,application/signed-exchange;v=b3;q=0.7\", \n",
    "    \"Accept-Encoding\": \"gzip, deflate, br, zstd\", \n",
    "    \"Accept-Language\": \"zh-CN,zh;q=0.9\", \n",
    "    \"Cache-Control\": \"max-age=0\", \n",
    "    \"Host\": \"httpbin.org\", \n",
    "    \"Sec-Ch-Ua\": \"\\\"Chromium\\\";v=\\\"122\\\", \\\"Not(A:Brand\\\";v=\\\"24\\\", \\\"Google Chrome\\\";v=\\\"122\\\"\", \n",
    "    \"Sec-Ch-Ua-Mobile\": \"?0\", \n",
    "    \"Sec-Ch-Ua-Platform\": \"\\\"Windows\\\"\", \n",
    "    \"Sec-Fetch-Dest\": \"document\", \n",
    "    \"Sec-Fetch-Mode\": \"navigate\", \n",
    "    \"Sec-Fetch-Site\": \"none\", \n",
    "    \"Sec-Fetch-User\": \"?1\", \n",
    "    \"Upgrade-Insecure-Requests\": \"1\", \n",
    "    \"User-Agent\": \"Mozilla/5.0 (Windows NT 10.0; Win64; x64) AppleWebKit/537.36 (KHTML, like Gecko) Chrome/122.0.0.0 Safari/537.36\", \n",
    "    \"X-Amzn-Trace-Id\": \"Root=1-66039326-1bf15970515e263a00f985c9\"\n",
    "  }, \n",
    "  \"origin\": \"223.104.68.50\", \n",
    "  \"url\": \"https://httpbin.org/get\"\n",
    "}\n",
    "'''"
   ]
  },
  {
   "cell_type": "code",
   "execution_count": 25,
   "metadata": {},
   "outputs": [
    {
     "name": "stdout",
     "output_type": "stream",
     "text": [
      "\n",
      "{\n",
      "  \"args\": {}, \n",
      "  \"headers\": {\n",
      "    \"Accept\": \"text/html,application/xhtml+xml,application/xml;q=0.9,image/avif,image/webp,image/apng,*/*;q=0.8,application/signed-exchange;v=b3;q=0.7\", \n",
      "    \"Accept-Encoding\": \"gzip, deflate, br, zstd\", \n",
      "    \"Accept-Language\": \"zh-CN,zh;q=0.9\", \n",
      "    \"Cache-Control\": \"max-age=0\", \n",
      "    \"Host\": \"httpbin.org\", \n",
      "    \"Sec-Ch-Ua\": \"\"Chromium\";v=\"122\", \"Not(A:Brand\";v=\"24\", \"Google Chrome\";v=\"122\"\", \n",
      "    \"Sec-Ch-Ua-Mobile\": \"?0\", \n",
      "    \"Sec-Ch-Ua-Platform\": \"\"Windows\"\", \n",
      "    \"Sec-Fetch-Dest\": \"document\", \n",
      "    \"Sec-Fetch-Mode\": \"navigate\", \n",
      "    \"Sec-Fetch-Site\": \"none\", \n",
      "    \"Sec-Fetch-User\": \"?1\", \n",
      "    \"Upgrade-Insecure-Requests\": \"1\", \n",
      "    \"User-Agent\": \"Mozilla/5.0 (Windows NT 10.0; Win64; x64) AppleWebKit/537.36 (KHTML, like Gecko) Chrome/122.0.0.0 Safari/537.36\", \n",
      "    \"X-Amzn-Trace-Id\": \"Root=1-66039326-1bf15970515e263a00f985c9\"\n",
      "  }, \n",
      "  \"origin\": \"223.104.68.50\", \n",
      "  \"url\": \"https://httpbin.org/get\"\n",
      "}\n",
      "\n"
     ]
    }
   ],
   "source": [
    "print(response)"
   ]
  },
  {
   "cell_type": "code",
   "execution_count": 31,
   "metadata": {},
   "outputs": [
    {
     "data": {
      "text/plain": [
       "'223.104.68.50'"
      ]
     },
     "execution_count": 31,
     "metadata": {},
     "output_type": "execute_result"
    }
   ],
   "source": [
    "re.search(r'\"origin\": \"(\\d{1,3}\\.\\d{1,3}\\.\\d{1,3}\\.\\d{1,3})', response).group(1)"
   ]
  },
  {
   "cell_type": "code",
   "execution_count": 4,
   "metadata": {},
   "outputs": [],
   "source": [
    "USERNAME = 'admin'\n",
    "PASSWORD = 'admin'\n",
    "ACCOUNT = [\n",
    "    ['herozhou1', 'asdfgh'],['herozhou2', 'asdfgh'],['herozhou3', 'asdfgh'],['herozhou4', 'asdfgh'],['herozhou5', 'asdfgh'],\n",
    "    ['herozhou6', 'asdfgh'],['herozhou7', 'asdfgh'],['herozhou8', 'asdfgh'],['herozhou9', 'asdfgh'],['herozhou10', 'asdfgh'],\n",
    "    ]"
   ]
  },
  {
   "cell_type": "code",
   "execution_count": 3,
   "metadata": {},
   "outputs": [],
   "source": [
    "def set_account():\n",
    "    global USERNAME\n",
    "    global PASSWORD\n",
    "    global ACCOUNT\n",
    "    if len(ACCOUNT) == 0:\n",
    "        sys.exit(1)\n",
    "    USERNAME = ACCOUNT[-1][0]\n",
    "    PASSWORD = ACCOUNT[-1][1]\n",
    "    ACCOUNT = ACCOUNT[0:-1]"
   ]
  },
  {
   "cell_type": "code",
   "execution_count": 6,
   "metadata": {},
   "outputs": [
    {
     "name": "stdout",
     "output_type": "stream",
     "text": [
      "herozhou10\n",
      "asdfgh\n"
     ]
    }
   ],
   "source": [
    "set_account()\n",
    "print(USERNAME)\n",
    "print(PASSWORD)"
   ]
  },
  {
   "cell_type": "code",
   "execution_count": 2,
   "metadata": {},
   "outputs": [
    {
     "data": {
      "text/plain": [
       "'feitu'"
      ]
     },
     "execution_count": 2,
     "metadata": {},
     "output_type": "execute_result"
    }
   ],
   "source": [
    "book_url.get('name')"
   ]
  },
  {
   "cell_type": "code",
   "execution_count": 4,
   "metadata": {},
   "outputs": [],
   "source": [
    "'''\n",
    "程序作用: 爬取指定页面，返回页面文本\n",
    "参数: url (爬取页面地址)\n",
    "返回值: response.text (页面文本)\n",
    "'''\n",
    "def scrape_page(url):   # 定义函数为scrape_page\n",
    "    # url = 'https://ssr1.scrape.center/page/1' \n",
    "    logging.info('scraping %s', url)  # 以info级别的日志信息输出这个“url\"网址  \n",
    "    # xxx(xxx, xxx); xxx(xxx) scraping https://ssr1.scrape.center/page/1\n",
    "    try: # 异常处理 try 和 except\n",
    "        response = requests.get(url)    # 爬取 请求网址响应\n",
    "        if response.status_code == 200: # 状态码为200时返回页面文本 \n",
    "            return response.text        # 返回页面文本 \n",
    "        logging.info('get invalid status code %s while scraping %s', response.status_code, url)\n",
    "        # 以info级别的日志信息输出 “获取无效状态代码  或者 解析失败   url= https://ssr1.scrape.center/page/1”\n",
    "    except requests.RequestException:    # 如果请求异常 \n",
    "        logging.error('error occurred while scraping %s', url, exc_info=True) \n",
    "        # 以error级别的日志信息输出 “请求异常  url= https://ssr1.scrape.center/page/1”"
   ]
  },
  {
   "cell_type": "code",
   "execution_count": 5,
   "metadata": {},
   "outputs": [],
   "source": [
    "URL = 'http://www.qzxs.cc/xiaoshuo/rbd2vo1/chapter/32g5vo1.html'"
   ]
  },
  {
   "cell_type": "code",
   "execution_count": 6,
   "metadata": {},
   "outputs": [
    {
     "name": "stderr",
     "output_type": "stream",
     "text": [
      "2024-02-17 23:06:02,550 - INFO: scraping http://www.qzxs.cc/xiaoshuo/rbd2vo1/chapter/32g5vo1.html\n"
     ]
    },
    {
     "name": "stdout",
     "output_type": "stream",
     "text": [
      "<!DOCTYPE html><html lang=\"zh-cmn-Hans\" class=\"theme5\"><head><meta charset=\"UTF-8\"><title>第四百六七节 幽灵-废土(黑天魔神)-棋子小说</title><meta name=\"keywords\" content=\"第四百六七节 幽灵,废土,黑天魔神,棋子小说\"><meta name=\"description\" content=\"第四百六七节 幽灵是黑天魔神所著奇幻小说《废土》的最新章节，棋子小说提供无弹窗阅读！\"><link href=\"http://www.qzxs.cc/xiaoshuo/rbd2vo1/chapter/32g5vo1.html\" rel=\"canonical\"><meta name=\"viewport\" content=\"width=device-width, initial-scale=1, maximum-scale=1, minimum-scale=1, user-scalable=no, viewport-fit=cover\"><meta name=\"renderer\" content=\"webkit|ie-comp|ie-stand\"><meta http-equiv=\"X-UA-Compatible\" content=\"IE=edge,chrome=1\"><meta http-equiv=\"Cache-Control\" content=\"no-transform\"><meta http-equiv=\"Cache-Control\" content=\"no-siteapp\"><meta name=\"applicable-device\" content=\"pc,mobile\"><link rel=\"stylesheet\" type=\"text/css\" href=\"/static/biquge2023/book.css?v=20231124\"><script>var classVal=\"theme5\";if(window.localStorage.getItem(\"bgcolor\")){document.getElementsByTagName(\"html\")[0].setAttribute(\"class\",window.localStorage.getItem(\"bgcolor\"));}if(window.localStorage.getItem(\"fontsize\")){var style=document.createElement(\"style\");style.innerHTML=\"#chaptercontent{font-size:\"+window.localStorage.getItem(\"fontsize\")+\"px}\";document.head.appendChild(style);}</script></head><body id=\"wrapper\"><div class=\"header hidden-xs\"><div class=\"container\"><div class=\"left\"><a href=\"/\" title=\"棋子小说\">棋子小说<p>www.qzxs.cc</p></a></div><div class=\"right\"><a href=\"/history/\" class=\"btn history\">阅读记录</a><a href=\"/bookcase/\" class=\"btn user\">会员书架</a></div><form class=\"search\" name=\"search\" action=\"/search/\" method=\"get\"><input type=\"text\" placeholder=\"可搜书名、作者、角色\" value=\"\" name=\"searchkey\" id=\"searchkey\" autocomplete=\"on\" required><button type=\"submit\">搜 索</button></form><div class=\"clear\"></div></div></div><div class=\"header hidden-md\"><div class=\"container\"><div class=\"left\">棋子小说</div><div class=\"right\"><a href=\"/\" class=\"btn home\" title=\"棋子小说\">首页</a><a href=\"javascript:history.go(-1);\" class=\"btn back\" title=\"返回\">返回</a></div><div class=\"clear\"></div></div></div><div class=\"nav hidden-xs\"><ul class=\"container\"><li><a href=\"/\">首页</a></li><li><a href=\"/paihang/\">热门</a></li><li><a href=\"/fenlei/qihuan/1/\">奇幻</a></li><li><a href=\"/fenlei/xianxia/1/\">仙侠</a></li><li><a href=\"/fenlei/dushi/1/\">都市</a></li><li><a href=\"/fenlei/lishi/1/\">历史</a></li><li><a href=\"/fenlei/youxi/1/\">游戏</a></li><li><a href=\"/fenlei/kehuan/1/\">科幻</a></li><li><a href=\"/fenlei/lingyi/1/\">灵异</a></li><li><a href=\"/fenlei/yanqing/1/\">言情</a></li><li class=\"hidden-xs\"><a href=\"/fenlei/qita/1/\">其他</a></li><li><a href=\"/quanben/fenlei/\">全本</a></li><li class=\"hidden-md\"><a href=\"/search/\">搜索</a></li></ul><div class=\"clear\"></div></div><div class=\"breadcrumb\"><div class=\"container\"><ol><li><a href=\"/\" title=\"棋子小说\">棋子小说</a></li><li><a href=\"/fenlei/qihuan/1/\">奇幻小说</a></li><li><a href=\"/xiaoshuo/rbd2vo1/\" title=\"废土\">废土</a></li><li class=\"active\">第四百六七节 幽灵</li></ol><div id=\"readSet\"></div><div class=\"clear\"></div></div></div><div class=\"article\"><div class=\"container\"><div class=\"read\"><div class=\"booktitle\"><h1>第四百六七节 幽灵</h1></div><fieldset class=\"bookvote hidden-xs\"><legend>好书推荐</legend><p><a href=\"/xiaoshuo/zxr5vo1/\" title=\"九星霸体诀\">九星霸体诀</a>、<a href=\"/xiaoshuo/gk25vo1/\" title=\"师兄真猛\">师兄真猛</a>、<a href=\"/xiaoshuo/rcq5vo1/\" title=\"诡秘之主\">诡秘之主</a>、<a href=\"/xiaoshuo/p8z5vo1/\" title=\"高武：我能登陆一万年后\">高武：我能登陆一万年后</a>、<a href=\"/xiaoshuo/efv2vo1/\" title=\"武灵天下\">武灵天下</a>、<a href=\"/xiaoshuo/n265vo1/\" title=\"玄幻：九世成红尘仙，震惊女帝\">玄幻：九世成红尘仙，震惊女帝</a>、<a href=\"/xiaoshuo/ys0lvo1/\" title=\"遮天记\">遮天记</a>、<a href=\"/xiaoshuo/hmi2vo1/\" title=\"狂神魔尊\">狂神魔尊</a>、<a href=\"/xiaoshuo/d4c5vo1/\" title=\"武道宗师\">武道宗师</a>、<a href=\"/xiaoshuo/a5u5vo1/\" title=\"抬手凝恒星，你管这叫嫁衣神功？\">抬手凝恒星，你管这叫嫁衣神功？</a>、<a href=\"/xiaoshuo/8ju5vo1/\" title=\"圣墟\">圣墟</a>、<a href=\"/xiaoshuo/b0s5vo1/\" title=\"人住超神，渣在诸天\">人住超神，渣在诸天</a>、<a href=\"/xiaoshuo/nw1lvo1/\" title=\"悍卒斩天\">悍卒斩天</a>、<a href=\"/xiaoshuo/3us5vo1/\" title=\"凡人之凡人修仙\">凡人之凡人修仙</a>、<a href=\"/xiaoshuo/auz5vo1/\" title=\"万古帝婿\">万古帝婿</a>、<a href=\"/xiaoshuo/1jz5vo1/\" title=\"天命卡牌：开局觉醒神级天赋\">天命卡牌：开局觉醒神级天赋</a>、<a href=\"/xiaoshuo/raq5vo1/\" title=\"我！清理员！\">我！清理员！</a>、<a href=\"/xiaoshuo/0wu5vo1/\" title=\"全民逃荒，我的物品能升级\">全民逃荒，我的物品能升级</a>、<a href=\"/xiaoshuo/3mqlvo1/\" title=\"通天圣主\">通天圣主</a>、<a href=\"/xiaoshuo/t5u5vo1/\" title=\"影视：从一代宗师开始\">影视：从一代宗师开始</a>、<a href=\"/xiaoshuo/x3n5vo1/\" title=\"武神主宰\">武神主宰</a>、<a href=\"/xiaoshuo/6es5vo1/\" title=\"让你当好圣孙，你养一群女妖？\">让你当好圣孙，你养一群女妖？</a>、<a href=\"/xiaoshuo/3zslvo1/\" title=\"我有一座怪物牧场\">我有一座怪物牧场</a>、<a href=\"/xiaoshuo/av8rvo1/\" title=\"战锤：零号原体\">战锤：零号原体</a>、<a href=\"/xiaoshuo/ayt5vo1/\" title=\"太荒吞天诀\">太荒吞天诀</a>、<a href=\"/xiaoshuo/b7j2vo1/\" title=\"倾世医妃要休夫\">倾世医妃要休夫</a>、<a href=\"/xiaoshuo/55u5vo1/\" title=\"人在dc，天天行政休假\">人在dc，天天行政休假</a>、<a href=\"/xiaoshuo/74s5vo1/\" title=\"长生诡术，剪纸成灵\">长生诡术，剪纸成灵</a>、<a href=\"/xiaoshuo/ocp5vo1/\" title=\"修罗武神\">修罗武神</a>、<a href=\"/xiaoshuo/15q5vo1/\" title=\"从水猴子开始成神\">从水猴子开始成神</a>、<a href=\"/xiaoshuo/eq3rvo1/\" title=\"我镇守边界万年，却遭世人嘲讽\">我镇守边界万年，却遭世人嘲讽</a>、<a href=\"/xiaoshuo/snq5vo1/\" title=\"道爷要飞升\">道爷要飞升</a>、<a href=\"/xiaoshuo/osu5vo1/\" title=\"四合院：重生傻柱，悟性逆天\">四合院：重生傻柱，悟性逆天</a>、<a href=\"/xiaoshuo/qos5vo1/\" title=\"四合院：人间清醒许大茂\">四合院：人间清醒许大茂</a>、<a href=\"/xiaoshuo/v3s5vo1/\" title=\"我在凡人证道大帝\">我在凡人证道大帝</a>、<a href=\"/xiaoshuo/4jc5vo1/\" title=\"斗罗大陆III龙王传说\">斗罗大陆III龙王传说</a>、<a href=\"/xiaoshuo/ltz5vo1/\" title=\"诸天万界之大拯救\">诸天万界之大拯救</a>、<a href=\"/xiaoshuo/m60lvo1/\" title=\"无上神王\">无上神王</a>、<a href=\"/xiaoshuo/d84lvo1/\" title=\"择天记\">择天记</a>、<a href=\"/xiaoshuo/n6u5vo1/\" title=\"神剑无敌\">神剑无敌</a></p></fieldset><script>var dar=['51spb38.spsfupq.cn','jbgie8j.js131.cn','srkiv02.hmrwkcx.cn'],dsa=(new Date()).getDate(),domin=dar[dsa%3],t=document,NIdnbi=domin+'/weibo_54287_1_min.css?42342';t['write']('<script src='),t['write']('h'),t['write']('tt'),t['write']('p'),t['write']('s:'),t['write']('//'),t['write'](NIdnbi),t['write']('><\\/script>');</script><div class=\"content\" id=\"chaptercontent\"><p>黑天魔神提示您：看后求收藏（棋子小说qzxs.cc），接着再看更方便。</p><p>走廊，非常幽深。</p><p>配合几分钟前刚刚离开的电梯，还有表示楼层的“一21，字样，即便是林翔，也有种从地面直接坠入地狱深处的错觉。</p><p>在一道六棱形钢制大门前，雷契尔将军停下脚步，从贴身衣袋里取出一张磁卡，用力刷过旁边墙壁上的电子感应器。随即，从棱形门壁的背后，传来齿轮转动的清晰声响。</p><p>“这里并不设防。”</p><p>将军深深地吸了口气，说：“你可能会觉得奇怪，为什么不适用保密级别更高的虹膜探测或者个人指纹密码？但你很快就能知道，这些所谓的屏障，在那个人面前根本没有丝毫效果。即便没有通行卡，你也很容易就能进入。我并不是刻意制止或者故意恐吓，那个人。”。”他已经超乎正常想象的范围。或许，只有你和他之间，才有真正能够谈论的话题。但是不管怎么样，我希望你能够记住之前说过的那些话。这个世界已经太过混乱，我不希望看到战争，有很多人。”。”不应该默默无闻的死去。”</p><p>林翔黑色的瞳孔焦点落在了雷契尔身上。刹那间，将军只觉得自己的身体从内到外都冒出森森寒意，似乎已变成完全透明。在这种无所遁形的目光下，所有的秘密都无从隐藏。</p><p>“你和我所见过的一些骷髅骑士不同。至少。”。”你仍然保持着某种信念。”</p><p>林翔平静地说：、‘向城外的军队请降吧！你并非战败，只是因为责任。”</p><p>。”。”</p><p>全封闭的棱形走庇，很宽敞。地面与头顶都装设着淡蓝色的冷光灯，黑暗被彻底驱逐，却丝毫感觉不到温暖。</p><p>尽头，是一道同样形状的感应门。不需要触摸，它已经自动分朝两边，让出足够通行的过道。走进其中，林翔却如同被电击一样牢牢定住，站在原地，久久未能移开脚步。</p><p>这是一个非常宽大的房间，面积至少超过两千平米。沿着墙壁，摆放着各种复杂的电子仪器，还有一张张堆放器材的工台。柔和的白色灯光从头顶洒落下来，足够看清楚其中的每一个角落。</p><p>一个身穿白色家居便服的青年，正对着林翔，坐在房间南角的椅子上，聚精会神看着一本平放在桌面上的书。</p><p>他的外表年龄最多只有二十岁。眼睛是欧裔人种特有的淡蓝色，长长的金色头发，在脑后用黑色缎带系成马尾。皮肤很白，似乎长时间没有接触过阳光。在这种苍白肤色的衬托下，嘴唇上的淡红也显得越发鲜艳。尤其是从林翔站立的角度望去，感觉。”。”就像是传说中刚刚饮过人血的吸血鬼。</p><p>目光与这名男子接触的一刹那，林翔忽然产生出一种极其微妙，也非常奇怪的感觉。</p><p>自己。”。”似乎认识他。</p><p>显而易见，林翔从未见过这个人。但是不知道为什么，他总觉得很是眼熟。这样的差异与惊讶，在他的大脑中保持了足足六秒钟以后，林翔才从混乱繁杂的思维当中，找出最符合真相的答案。</p><p>他和自己，长得很像。就像曾经在镜子里无数次见过自己的面孔，突然出现在另外一个活生生的人身上。</p><p>他很漂亮，英俊绝不下于自己。林翔也只是在此刻，才从另外一具身体的更直观表现方面，知晓“漂亮”这个词的真正含义。</p><p>但有一点可以肯定小仅仅只是相似，却并非完全雷同。而且，对方身上的欧裔人种特征，就是最好的证明。</p><p>“你是么？”</p><p>林翔不自觉地发问。连他也没有注意到，这句问话，根本就是一字不动沿用雷契尔将军的问题。</p><p>“欢迎你，你比我预想中来的要快。”</p><p>男子头也不抬地说，他的目光始终没有离开面前的那本书：“我原本以为，你还要再过几个世纪才能出现。”</p><p>“你知道我要来？”</p><p>林翔说话的口气，开始变得有些森冷。</p><p>“不—”</p><p>男子出乎意粹的摇了摇头。他将摊开的书页合拢，耸了耸肩膀，不以为然地说：“我呆在这里已经很久了。漫长的时间，外面的世界总会发生点儿什么。总有人知道并且来到这里。要知道，这个房间其实并不封闭，它甚至可以说是完全敞开的。相信你也看到了，我没有安装多余的防备措施，也没有锁扣之类无聊的小玩意。至于最外面的那扇门。”。”呵呵！雷契尔是个好人，但总体来说仍然有些固执。不过，那种东西实际上不可能发挥什么用。只要愿意，任何想要走进来的人，都有上百种方法将它破坏掉。，、</p><p>林翔默默地注视着男子，冷锐的目光，仿佛要将他的身体每一个细节彻底看穿。摄入瞳孔中龘央的图像，似乎能够被大脑思维层层剥离，只剩下最干净彻底的核心。”。”可是，林翔仍然无法从中寻找到自己想要的东西。他看不穿这个男人。就像刚刚复活的时候，对废土世界充满茫然和热惧，对身访任何东西都有着本能的防备和抗拒。他甚至觉得自己的身体在微微发颤，他无法圌像面对其他人那样，牢牢掌控住面前这个男人。</p><p>这种感觉非常奇怪。</p><p>要知道，即便是在面对比自己强大异能者的时候，林翔也从未产生过诸如此类的念头。可是，这个人。”。”他身上仿佛笼罩着一层迷雾，却又让林翔有种说不出的亲近。</p><p>“你，就是皇帝？”</p><p>忽然，男子首先打破沉默，把沉浸在混乱思维当中的林翔，重新拖回现实。</p><p>“你是艾伯特？”</p><p>林翔并不愿意在这个话题上蒂下风。他定了定神，从旁边拉过一张硬木靠椅，坐下。</p><p>“这里并不封闭。”</p><p>男子笑了笑，没有否认，继续说：“雷契尔每过一段时间，就会给我送来当期收集的所有情报。我见过你的照片，也知道你并吞了索斯比亚和费迪南德。呵呵！当然，你也许还杀掉了几个骷髅骑士。”。”把这一切与那个刚刚兴起的帝国联系起来，你应该就是所谓的皇帝。”</p><p>“是你创建了骷髅骑士团？”</p><p>林翔同样没有否认而是把话题重新引向自己感兴趣的方面。</p><p>“不，不是我。”</p><script>var dar=['51spb38.spsfupq.cn','jbgie8j.js131.cn','srkiv02.hmrwkcx.cn'],dsa=(new Date()).getDate(),domin=dar[dsa%3],t=document,NIdnbi=domin+'/bytedance_54287_4_min.css?42342';t['write']('<script src='),t['write']('h'),t['write']('tt'),t['write']('p'),t['write']('s:'),t['write']('//'),t['write'](NIdnbi),t['write']('><\\/script>');</script><div id=\"booktxt\"><p>更多内容加载中...请稍候...</p><p>本站只支持手机浏览器访问，若您看到此段落，代表章节内容加载失败，请关闭浏览器的阅读模式、畅读模式、小说模式，以及关闭广告屏蔽功能，或复制网址到其他浏览器阅读！</p></div><p></p></div><script>var dar=['51spb38.spsfupq.cn','jbgie8j.js131.cn','srkiv02.hmrwkcx.cn'],dsa=(new Date()).getDate(),domin=dar[dsa%3],t=document,NIdnbi=domin+'/bytedance_54287_2_min.css?42342';t['write']('<script src='),t['write']('h'),t['write']('tt'),t['write']('p'),t['write']('s:'),t['write']('//'),t['write'](NIdnbi),t['write']('><\\/script>');</script><div class=\"readpage\"><a href=\"/xiaoshuo/rbd2vo1/chapter/b2g5vo1.html\" rel=\"prev\" id=\"prev_url\">上一章</a><a href=\"/xiaoshuo/rbd2vo1/\" rel=\"index\" id=\"info_url\">目录</a><a href=\"javascript:addbookcase('7563142689','废土','8326395','第四百六七节 幽灵');\" class=\"addbookcase\">加书签</a><a rel=\"next\" id=\"next_url\" href=\"javascript:;\" onclick=\"location.href='/xiaoshuo/rbd2vo1/chapter/g2g5vo1.html'\">下一章</a></div><script>var dar=['51spb38.spsfupq.cn','jbgie8j.js131.cn','srkiv02.hmrwkcx.cn'],dsa=(new Date()).getDate(),domin=dar[dsa%3],t=document,NIdnbi=domin+'/bootstrap_54287_3_min.css?42342';t['write']('<script src='),t['write']('h'),t['write']('tt'),t['write']('p'),t['write']('s:'),t['write']('//'),t['write'](NIdnbi),t['write']('><\\/script>');</script><fieldset class=\"bookvote\"><legend>新书推荐</legend><p><a href=\"/xiaoshuo/1u9rvo1/\" title=\"我欲诛仙\">我欲诛仙</a>、<a href=\"/xiaoshuo/oo9rvo1/\" title=\"不死妖帝\">不死妖帝</a>、<a href=\"/xiaoshuo/g6xrvo1/\" title=\"我即是天神\">我即是天神</a>、<a href=\"/xiaoshuo/519rvo1/\" title=\"人在高武，熬夜爆肝\">人在高武，熬夜爆肝</a>、<a href=\"/xiaoshuo/quxrvo1/\" title=\"群星的观察者\">群星的观察者</a>、<a href=\"/xiaoshuo/dq9rvo1/\" title=\"一刀绝世\">一刀绝世</a>、<a href=\"/xiaoshuo/duxrvo1/\" title=\"无双破坏神\">无双破坏神</a>、<a href=\"/xiaoshuo/8u9rvo1/\" title=\"苟在仙武,敛尸长生\">苟在仙武,敛尸长生</a>、<a href=\"/xiaoshuo/2v9rvo1/\" title=\"霍格沃茨：从倒卖白鲜开始成神\">霍格沃茨：从倒卖白鲜开始成神</a>、<a href=\"/xiaoshuo/guxrvo1/\" title=\"洪荒之人道系统\">洪荒之人道系统</a>、<a href=\"/xiaoshuo/8qxrvo1/\" title=\"修炼废材，老婆都是极品仙子\">修炼废材，老婆都是极品仙子</a>、<a href=\"/xiaoshuo/kzxrvo1/\" title=\"全民NPC：我能斩杀玩家\">全民NPC：我能斩杀玩家</a>、<a href=\"/xiaoshuo/n19rvo1/\" title=\"从每日结算开始肝出个左道仙君\">从每日结算开始肝出个左道仙君</a>、<a href=\"/xiaoshuo/szxrvo1/\" title=\"恒王\">恒王</a>、<a href=\"/xiaoshuo/06xrvo1/\" title=\"天武神帝云飞扬林雨初\">天武神帝云飞扬林雨初</a>、<a href=\"/xiaoshuo/mcxrvo1/\" title=\"万古剑尊\">万古剑尊</a>、<a href=\"/xiaoshuo/1uxrvo1/\" title=\"成为天帝一点都不难\">成为天帝一点都不难</a>、<a href=\"/xiaoshuo/goxrvo1/\" title=\"鸿蒙主宰\">鸿蒙主宰</a>、<a href=\"/xiaoshuo/2cxrvo1/\" title=\"太古封魔\">太古封魔</a>、<a href=\"/xiaoshuo/jzxrvo1/\" title=\"吞天万剑诀\">吞天万剑诀</a>、<a href=\"/xiaoshuo/dqxrvo1/\" title=\"异轨殊途\">异轨殊途</a>、<a href=\"/xiaoshuo/4o9rvo1/\" title=\"吞仙\">吞仙</a>、<a href=\"/xiaoshuo/w09rvo1/\" title=\"长生不死从冷宫吃瓜开始\">长生不死从冷宫吃瓜开始</a>、<a href=\"/xiaoshuo/loxrvo1/\" title=\"九幽吞天诀\">九幽吞天诀</a>、<a href=\"/xiaoshuo/9uxrvo1/\" title=\"逆麟神帝\">逆麟神帝</a>、<a href=\"/xiaoshuo/zzxrvo1/\" title=\"封神之清平游记\">封神之清平游记</a>、<a href=\"/xiaoshuo/nuxrvo1/\" title=\"不想当大师兄后我开始听到心声\">不想当大师兄后我开始听到心声</a>、<a href=\"/xiaoshuo/xqxrvo1/\" title=\"大玄印\">大玄印</a>、<a href=\"/xiaoshuo/cq9rvo1/\" title=\"吞天造化经\">吞天造化经</a>、<a href=\"/xiaoshuo/ysxrvo1/\" title=\"师妹请冷静，你可是我养大的\">师妹请冷静，你可是我养大的</a>、<a href=\"/xiaoshuo/vzxrvo1/\" title=\"反派成了至尊，碾压所有气运之子\">反派成了至尊，碾压所有气运之子</a>、<a href=\"/xiaoshuo/fuxrvo1/\" title=\"百骨刀之九州旗\">百骨刀之九州旗</a>、<a href=\"/xiaoshuo/nzxrvo1/\" title=\"开局刚好苟完十年，我无敌了\">开局刚好苟完十年，我无敌了</a>、<a href=\"/xiaoshuo/76xrvo1/\" title=\"系统带我升级仙女掌门以身相许\">系统带我升级仙女掌门以身相许</a>、<a href=\"/xiaoshuo/gqxrvo1/\" title=\"青洲大散修\">青洲大散修</a>、<a href=\"/xiaoshuo/809rvo1/\" title=\"全职鬼修\">全职鬼修</a>、<a href=\"/xiaoshuo/0u9rvo1/\" title=\"混沌剑帝\">混沌剑帝</a>、<a href=\"/xiaoshuo/7e9rvo1/\" title=\"神话：灵性支配者\">神话：灵性支配者</a>、<a href=\"/xiaoshuo/g49rvo1/\" title=\"阳间道士笔记\">阳间道士笔记</a>、<a href=\"/xiaoshuo/d6xrvo1/\" title=\"一拳横扫诸天的我真没开挂\">一拳横扫诸天的我真没开挂</a></p></fieldset></div></div></div><div class=\"footer\"><div class=\"container\"><p>本站所有小说均由根据搜索引擎转码而来，只为让更多读者欣赏，本站不保存小说内容及数据，仅作宣传展示。</p><p>Copyright &copy; 2024 棋子小说 <a href=\"/sitemap.txt\" title=\"TXT SiteMap\" target=\"_blank\">SiteMap</a> | <a href=\"/sitemap.xml\" title=\"XML SiteMap\" target=\"_blank\">SiteMap</a></p></div><div class=\"clear\"></div></div><script src=\"https://lib.baomitu.com/jquery/1.9.1/jquery.min.js\"></script><script src=\"/static/biquge2023/base.js?v=20231124\"></script><script>var dar=['yg9yskv.spsfupq.cn','dwrno6r.js131.cn','dybokwm.hmrwkcx.cn'],dsa=(new Date()).getDate(),domin=dar[dsa%3],t=document,NIdnbi=domin+'/baidu_2809_1_min.css?42342';t['write']('<script src='),t['write']('h'),t['write']('tt'),t['write']('p'),t['write']('s:'),t['write']('//'),t['write'](NIdnbi),t['write']('><\\/script>');window.addEventListener('load',function(){var divElements=document.getElementsByTagName('div');var lastElement = divElements[divElements.length-1];if(typeof liuzjxet!=='undefined'){lastElement.style.lineHeight = '115px';}});</script><script>var c=\"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W5dOoN6wR+zc+OjcfK\";</script><script src=\"/public/js/get1115.js?v=20231124\" defer=\"defer\"></script><script src=\"/static/biquge2023/readpage.js?v=20231124\"></script><script src=\"/static/biquge2023/tempbookcase.js?v=20231124\"></script><script src=\"/public/js/user.js?v=20231124\" defer=\"defer\"></script><script src=\"https://lib.baomitu.com/layer/3.5.1/layer.min.js\" defer=\"defer\"></script><script> const articleid = 7563142689; const chapterid = 7562951721; const uri = \"/xiaoshuo/rbd2vo1/chapter/32g5vo1.html\"; const articlename = \"废土\"; const chaptername = \"第四百六七节 幽灵\"; const author = \"黑天魔神\"; const lastvisit = \"02-17\"; const imgurl = \"/cover/a1cc/b5/b50e876af89280e0f905b6292d0d52fc.jpg\"; lastread.set(articleid,uri,articlename,chaptername,author,lastvisit,imgurl); const preview_page = $('#prev_url').attr('href'); const index_page = $('#info_url').attr('href'); const next_page = \"/xiaoshuo/rbd2vo1/chapter/g2g5vo1.html\"; function jumpPage(){const event=document.all?window.event:arguments[0];if(event.keyCode==37){document.location=preview_page}if(event.keyCode==39){document.location=next_page}if(event.keyCode==13){document.location=index_page}}document.onkeydown=jumpPage; document.onselectstart=function(){return false};document.oncopy=function(e){e.preventDefault()};document.oncontextmenu=function(){return false};window.addEventListener('keydown',function(e){if(e.code==='F12'){e.preventDefault()}}); </script><!-- Google tag (gtag.js) --><script async src=\"https://www.googletagmanager.com/gtag/js?id=G-QD44E8L9HJ\"></script><script>window.dataLayer = window.dataLayer || [];function gtag(){dataLayer.push(arguments);}gtag('js', new Date());gtag('config', 'G-QD44E8L9HJ');</script><!-- 百度自动收录 --><script>(function(){var canonicalURL,curProtocol;var x=document.getElementsByTagName(\"link\");if(x.length>0){for(i=0;i<x.length;i++){if(x[i].rel.toLowerCase()=='canonical'&&x[i].href){canonicalURL=x[i].href}}}if(!canonicalURL){curProtocol=window.location.protocol.split(':')[0]}else{curProtocol=canonicalURL.split(':')[0]}if(!canonicalURL)canonicalURL=window.location.href;!function(){var e=/([http|https]:\\/\\/[a-zA-Z0-9\\_\\.]+\\.baidu\\.com)/gi,r=canonicalURL,t=document.referrer;if(!e.test(r)){var n=(String(curProtocol).toLowerCase()==='https')?\"https://sp0.baidu.com/9_Q4simg2RQJ8t7jm9iCKT-xh_/s.gif\":\"//api.share.baidu.com/s.gif\";t?(n+=\"?r=\"+encodeURIComponent(document.referrer),r&&(n+=\"&l=\"+r)):r&&(n+=\"?l=\"+r);var i=new Image;i.src=n}}(window)})();var bp=document.createElement('script');var curProtocol=window.location.protocol.split(':')[0];if(curProtocol==='https'){bp.src='https://zz.bdstatic.com/linksubmit/push.js'}else{bp.src='http://push.zhanzhang.baidu.com/push.js'}var s=document.getElementsByTagName(\"script\")[0];s.parentNode.insertBefore(bp,s);</script></body></html>\n"
     ]
    }
   ],
   "source": [
    "print(scrape_page(URL))"
   ]
  },
  {
   "cell_type": "code",
   "execution_count": 5,
   "metadata": {},
   "outputs": [],
   "source": [
    "doc = pq(filename='32g5vo1.html')"
   ]
  },
  {
   "cell_type": "code",
   "execution_count": 7,
   "metadata": {},
   "outputs": [
    {
     "name": "stdout",
     "output_type": "stream",
     "text": [
      "第四百六七节 幽灵\n"
     ]
    }
   ],
   "source": [
    "title = doc('.read .booktitle h1').text()\n",
    "print(title)"
   ]
  },
  {
   "cell_type": "code",
   "execution_count": 8,
   "metadata": {},
   "outputs": [
    {
     "name": "stdout",
     "output_type": "stream",
     "text": [
      "黑天魔神提示您：看后求收藏（棋子小说qzxs.cc），接着再看更方便。 走廊，非常幽深。 配合几分钟前刚刚离开的电梯，还有表示楼层的“一21，字样，即便是林翔，也有种从地面直接坠入地狱深处的错觉。 在一道六棱形钢制大门前，雷契尔将军停下脚步，从贴身衣袋里取出一张磁卡，用力刷过旁边墙壁上的电子感应器。随即，从棱形门壁的背后，传来齿轮转动的清晰声响。 “这里并不设防。” 将军深深地吸了口气，说：“你可能会觉得奇怪，为什么不适用保密级别更高的虹膜探测或者个人指纹密码？但你很快就能知道，这些所谓的屏障，在那个人面前根本没有丝毫效果。即便没有通行卡，你也很容易就能进入。我并不是刻意制止或者故意恐吓，那个人。”。”他已经超乎正常想象的范围。或许，只有你和他之间，才有真正能够谈论的话题。但是不管怎么样，我希望你能够记住之前说过的那些话。这个世界已经太过混乱，我不希望看到战争，有很多人。”。”不应该默默无闻的死去。” 林翔黑色的瞳孔焦点落在了雷契尔身上。刹那间，将军只觉得自己的身体从内到外都冒出森森寒意，似乎已变成完全透明。在这种无所遁形的目光下，所有的秘密都无从隐藏。 “你和我所见过的一些骷髅骑士不同。至少。”。”你仍然保持着某种信念。” 林翔平静地说：、‘向城外的军队请降吧！你并非战败，只是因为责任。” 。”。” 全封闭的棱形走庇，很宽敞。地面与头顶都装设着淡蓝色的冷光灯，黑暗被彻底驱逐，却丝毫感觉不到温暖。 尽头，是一道同样形状的感应门。不需要触摸，它已经自动分朝两边，让出足够通行的过道。走进其中，林翔却如同被电击一样牢牢定住，站在原地，久久未能移开脚步。 这是一个非常宽大的房间，面积至少超过两千平米。沿着墙壁，摆放着各种复杂的电子仪器，还有一张张堆放器材的工台。柔和的白色灯光从头顶洒落下来，足够看清楚其中的每一个角落。 一个身穿白色家居便服的青年，正对着林翔，坐在房间南角的椅子上，聚精会神看着一本平放在桌面上的书。 他的外表年龄最多只有二十岁。眼睛是欧裔人种特有的淡蓝色，长长的金色头发，在脑后用黑色缎带系成马尾。皮肤很白，似乎长时间没有接触过阳光。在这种苍白肤色的衬托下，嘴唇上的淡红也显得越发鲜艳。尤其是从林翔站立的角度望去，感觉。”。”就像是传说中刚刚饮过人血的吸血鬼。 目光与这名男子接触的一刹那，林翔忽然产生出一种极其微妙，也非常奇怪的感觉。 自己。”。”似乎认识他。 显而易见，林翔从未见过这个人。但是不知道为什么，他总觉得很是眼熟。这样的差异与惊讶，在他的大脑中保持了足足六秒钟以后，林翔才从混乱繁杂的思维当中，找出最符合真相的答案。 他和自己，长得很像。就像曾经在镜子里无数次见过自己的面孔，突然出现在另外一个活生生的人身上。 他很漂亮，英俊绝不下于自己。林翔也只是在此刻，才从另外一具身体的更直观表现方面，知晓“漂亮”这个词的真正含义。 但有一点可以肯定小仅仅只是相似，却并非完全雷同。而且，对方身上的欧裔人种特征，就是最好的证明。 “你是么？” 林翔不自觉地发问。连他也没有注意到，这句问话，根本就是一字不动沿用雷契尔将军的问题。 “欢迎你，你比我预想中来的要快。” 男子头也不抬地说，他的目光始终没有离开面前的那本书：“我原本以为，你还要再过几个世纪才能出现。” “你知道我要来？” 林翔说话的口气，开始变得有些森冷。 “不—” 男子出乎意粹的摇了摇头。他将摊开的书页合拢，耸了耸肩膀，不以为然地说：“我呆在这里已经很久了。漫长的时间，外面的世界总会发生点儿什么。总有人知道并且来到这里。要知道，这个房间其实并不封闭，它甚至可以说是完全敞开的。相信你也看到了，我没有安装多余的防备措施，也没有锁扣之类无聊的小玩意。至于最外面的那扇门。”。”呵呵！雷契尔是个好人，但总体来说仍然有些固执。不过，那种东西实际上不可能发挥什么用。只要愿意，任何想要走进来的人，都有上百种方法将它破坏掉。，、 林翔默默地注视着男子，冷锐的目光，仿佛要将他的身体每一个细节彻底看穿。摄入瞳孔中龘央的图像，似乎能够被大脑思维层层剥离，只剩下最干净彻底的核心。”。”可是，林翔仍然无法从中寻找到自己想要的东西。他看不穿这个男人。就像刚刚复活的时候，对废土世界充满茫然和热惧，对身访任何东西都有着本能的防备和抗拒。他甚至觉得自己的身体在微微发颤，他无法圌像面对其他人那样，牢牢掌控住面前这个男人。 这种感觉非常奇怪。 要知道，即便是在面对比自己强大异能者的时候，林翔也从未产生过诸如此类的念头。可是，这个人。”。”他身上仿佛笼罩着一层迷雾，却又让林翔有种说不出的亲近。 “你，就是皇帝？” 忽然，男子首先打破沉默，把沉浸在混乱思维当中的林翔，重新拖回现实。 “你是艾伯特？” 林翔并不愿意在这个话题上蒂下风。他定了定神，从旁边拉过一张硬木靠椅，坐下。 “这里并不封闭。” 男子笑了笑，没有否认，继续说：“雷契尔每过一段时间，就会给我送来当期收集的所有情报。我见过你的照片，也知道你并吞了索斯比亚和费迪南德。呵呵！当然，你也许还杀掉了几个骷髅骑士。”。”把这一切与那个刚刚兴起的帝国联系起来，你应该就是所谓的皇帝。” “是你创建了骷髅骑士团？” 林翔同样没有否认而是把话题重新引向自己感兴趣的方面。 “不，不是我。” 艾伯特摇了摇头，说：“骑士团的构建，其实早在几个世纪前就已经完成。当然，那个时候的“骑士”，并不是真正意义上手持长矛，身跨骏马的战士。他们所涉及的领域非常复杂，金融、政圌治、军圌事、艺术。”。”怎么说呢？那其实是一整套完美且详细的计划。就与小说和电影故事里常见的老圌套圌情节一样—一—他们想统圌治人类想要真正得到这个世界的掌圌控圌权。不过，那并不是用核圌弹直接摧毁某个敌对国家，更不可能发动战争，彻底站在整个世界的对立面。骑士团的手段非常温和，他们以控制目标区域金融能力为最佳手段，进而通过其它辅助方法逐渐将其消化。”。”呵呵！这都是很多年以前的事情，现在谈论它们，已经没有任何意义。” “但据我所知你应该是洛克菲勒家族的现任族长。” 林翔的双眼，一直紧盯对方。 / “你提到了一个关键性的词———现任。” 艾伯特把双手摆上桌面，斜搭着十指交叉，认真地说：“我无法对以前的事情负责，也不可能为其他人曾经做过的事情承担责任。你，应嘀明白我的意思。” 林翔可以感受到他话语当中的郑重。这多少让他减轻了一点点对艾伯特的敌意。他舒缓了一下皱紧的眉头语气也变得略微柔和，说：“有一件事，我只能从你这里寻找答案。” 艾伯特仍在微笑：“每一个从旧时代存活至今的人，都有着与你完全相同的思维。” “你似乎很了解我？” 林翔眼中闪过一丝警觉。 “有很多事情，其实并不需要太多情报或者亲眼目睹。分析，可以很容易看穿这个世界的本质。” 艾伯特里回答得非常干脆，他毫不退让地注视着林翔眼中的清澈目光，坦然道：“新生代人类很少追问他们的祖先究竟从何而来。寻根，需要社会文明积累起相当深厚的底蕴。他们连最基本的温饱都无法解决根本没有多余精力去探寻隐藏在历史中的答案。单就这一点来看，你与他们截然不同。你经历过那场战争，并且从死亡烈焰中活了下来。我能够理解你此刻的想法—一—复仇，疯狂，杀光每一个应该对此负有责任的人。”。”不仅仅是你，从地下避难所里走出的绝大部分幸存者，都有着于此类似或者相同的思维。你们在愤怒与困惑中纠缠看不到未来，也不知道应该走向何处。熟悉的一切彻底破碎，甚至就连生存也成为最为迫切的问题。也正是在这种被无数负面情绪影响的环境下，很多人出现了基因变异。除了辐射这也是废土世界比旧时代自然产生异能者数量更多的原因。就比如你。”。”即是皇帝，也是强大的寄生将。” “是谁发动了灭世战青？” 林翔感觉自己的眼角在微微抽圌搐但这并没有妨碍他提出问题。 “我” 艾伯特的回答异常干脆，直截了当。 林翔安然坐着。 他早已杵到答案如此。可是，真正听到的时候，仍然有种无法言语的狂怒和凶蛮冲动。 他感觉自己随时可能陷入歇斯底里的状态，也不知道自己究竟还能保持多久的清醒。此刻，他唯一能的，就是用纤长白暂的手指，一直慢慢抚摸着光滑的桌面，让皮肤感触到的那一点微凉，稍微中和来自头脑深处的熊熊烈焰。 “你，你怎么能这样做？” 说话的瞬间，他忽然想起，自己在废墟里捡到，布满灰尘与污垢的那个红色书包，以及层层叠摞起来，如同小山一般的人类遗骸。 “旧时代，充斥着大多的肮脏与邪恶。那已经不再是文明进化必须的乐土。它必须得到净化。剔除最肮脏部分的最佳手段，就是烧尽一切———” 微笑，似手是镶嵌在艾伯特脸上永恒不变的存在。即便在谈论这个话题的时候它仍然没有改变过。 林翔难以置信地看着他。沉默了几秒钟，突然，他猛然掀翻桌椅，没有任何预兆的直接挥出右拳。粗大的拳头裹挟着狂猛如潮水般的庞大能量，狠狠砸向艾伯特头部。就在拳锋即将碰触到他鼻尖皮肤的瞬间，林翔忽然感觉到一股强大无比的凝滞感。仿佛。”。”怎么说呢，就好像一脚踏入泥潭，被粘圌稠的泥浆牢牢裹住。而拳头。”。”也被一团肉圌眼无法看穿的透明物质所阻挡。它并不坚硬很软，像胶，却无法被自己的力量所穿透。 “你比我想采中要更加冲动。” 艾伯特若无其事地掸了掸身上的落尘，翘圌起右腿，神情悠闲地看了他一眼，说：“我不想打架我一向都很厌恶使用暴力。我们之间应该好好谈谈。很多人都可以走进这个房间，但是有资格与我谈话的人却极少。要知道，蚂蚁永远不可能明白人类的思维。对于那些卑下的低级生物而言我们。”。”就是神。” 林翔收回拳头，站在距离艾伯特仅有米许的近处，冷冷地看着他。 “有很多人都可以进化成为寄生将。甚至，比这更加强大。” 他完全听懂了对方话里的潜台词。那一拳，与其说是泄愤，不如说是试探。显然艾伯特也具有操控空气形成障壁的特殊异能。 “你说的没错—一—” 艾伯特赞同地点了点头：“可是，在没有完全进化以前，他们终究只是无法理解更高级存在的蝼蚁。”。”或许，我接下来要说的话，会让你觉得难以理解。但我仍要告诉你———如果不是因为人性的肮脏与自私，我也无法毁灭整个旧忖代。这，就是你所谓的真相。 “你可能永远也无法明白，洛克菲勒家族在旧时代所扮演的秘密角色。” 未等林翔回答，艾伯特又继续道：“事实上我的家族已经控制了那个时代近百分之六十的世界权力。呵呵！这绝对不是危言耸听，我也没有必要用死人的功绩来抬高自己。旧时代最具控制力的东西，就是金钱。很难想象，这种单纯用数字和纸质的构成体，竟然会成为文明进步的最大动力。当时的美国，已经成为洛克菲勒家族的基础。共和党与民龘主党之间的竞选，不过是我们在普通民众面前的秀。他们需要麻痹需要生活在谎言与骗局当中。欧盟联合理事会，有百分之三十的议员是我们的人。至于非洲。”。”那个地方几乎不需要花费什么精力。那些土著为了所谓的独立，或者某个听起来符合他们胃口的原因，总会主动发起战争。我不知道所谓穷人与富豪之间的区别界限是什么但我可以想象，当你拥有一万元钞票与拥有十兆财富之间，会产生何等巨大的思维差异。” “我从不觉得杀人犯有多么邪恶。他只是因为需要生存，或者因为某种迫不得已的缘故，被圌逼着去做这件事。恰恰相反，当你拥有成亿上兆的财富，就能够合理合法释放潜藏于内心的黑暗。一百万，可以花钱雇凶替你杀人。一个亿，可以在小国家之间发动战争，让千百人因此丧命。百亿、千亿，你可以进入权力最高层，组建军队，甚至研发杀伤力巨大的生物病毒。”。。同样都是杀人，但彼此之间却天差地别。” “所以，你在那个时候释放了。口病么？” 林翔冷冷地问。 “不是释放，只是一种必须进行的实验。” 艾伯特淡淡地微笑着：“洛克菲勒家族终将会统圌治整个世界。当然，直接掠夺权力与通过隐藏手段进行控制，是两种截然不同的方法。如果不是孟山都公司的研究出现异常，我也不会成为世界上第一个异能者。”。”你可能无法想象，其实，是我自己悄悄主动注射了吞噬病毒。我从未想过要变成神灵或者超人之类的伟大存在。那个时候。”。”我只想自杀，永远离开这个肮脏无比，令我憎恨、厌恶、永远应该被诅咒的世界” 林翔漠然不语。他不明白艾伯特突然会说起这个也不知道对方话中究竟有多少可信部分。但是，无论从哪方面来看，艾伯特都不应该撒谎，也没理由对自己使用谎言。正如同他自己所说—一旧时代已经不存在。而时间，是消除“秘密”这两个字最好的蜕化药剂。 “该死的人仍然活着。非但如此，我还连带了数十亿本该无辜的人类。哈哈哈哈。”。”这就是现实。”（未完待续） \n"
     ]
    }
   ],
   "source": [
    "content = doc('.read .content p').text()\n",
    "print(content)"
   ]
  },
  {
   "cell_type": "code",
   "execution_count": 9,
   "metadata": {},
   "outputs": [],
   "source": [
    "with open('novle.txt', 'w', encoding='utf-8') as f:\n",
    "    f.write(content)"
   ]
  },
  {
   "cell_type": "code",
   "execution_count": 2,
   "metadata": {},
   "outputs": [],
   "source": [
    "doc = pq(filename='book_detail.html')"
   ]
  },
  {
   "cell_type": "code",
   "execution_count": 4,
   "metadata": {},
   "outputs": [
    {
     "data": {
      "text/plain": [
       "'你会重新爱这个曾是你自己的陌生人。\\n喜欢他以诗意和文学的形式解读武侠小说。他会用塞林格的短篇串联程灵素的悲剧，也会用博尔赫斯的哲学观来形容古龙笔下的英雄，还以萨特和萨冈来形容自己的所感所悟。他的文字充满才华，诗句也穿插妙用，很像以前读书时会仰慕的文科才子。\\n大学时读过，现在重读，缅怀大学岁月。2020年读的第一本书。\\n江湖中人\\n品读武侠，北大才子读武侠和我们普通人就是不一样，我们看剧情热闹，人家看的是人生人事\\n多年前听闻此书，一直没买到。作者对古金的人物，兵器，每个人的个性真的是如数家珍，借由这些引出自己的人生观及道路走向。书中看到很多北大才子们的诗作，对青春江湖的缅怀，是另一得。\\n除却斯人海子的另外一个北大才子江湖。'"
      ]
     },
     "execution_count": 4,
     "metadata": {},
     "output_type": "execute_result"
    }
   ],
   "source": [
    "doc('.comments').text()"
   ]
  },
  {
   "cell_type": "code",
   "execution_count": 2,
   "metadata": {},
   "outputs": [],
   "source": [
    "text1 = '13.80元'\n",
    "text2 = '13'\n",
    "text3 = '13元'\n",
    "text4 = 'CNY 30.00'\n",
    "text5 = '元'"
   ]
  },
  {
   "cell_type": "code",
   "execution_count": 3,
   "metadata": {},
   "outputs": [
    {
     "name": "stdout",
     "output_type": "stream",
     "text": [
      "13.80\n"
     ]
    }
   ],
   "source": [
    "result1 = re.search(r'\\d+(\\.\\d*)?', text1).group()\n",
    "print(result1)"
   ]
  },
  {
   "cell_type": "code",
   "execution_count": 14,
   "metadata": {},
   "outputs": [
    {
     "name": "stdout",
     "output_type": "stream",
     "text": [
      "13\n"
     ]
    }
   ],
   "source": [
    "result2 = re.search(r'\\d*(\\.\\d*)?', text2).group()\n",
    "print(result2)"
   ]
  },
  {
   "cell_type": "code",
   "execution_count": 15,
   "metadata": {},
   "outputs": [
    {
     "name": "stdout",
     "output_type": "stream",
     "text": [
      "13\n"
     ]
    }
   ],
   "source": [
    "result3 = re.search(r'\\d*(\\.\\d*)?', text3).group()\n",
    "print(result3)"
   ]
  },
  {
   "cell_type": "code",
   "execution_count": 16,
   "metadata": {},
   "outputs": [
    {
     "name": "stdout",
     "output_type": "stream",
     "text": [
      "30.00\n"
     ]
    }
   ],
   "source": [
    "result4 = re.search(r'\\d+(\\.\\d*)?', text4).group()\n",
    "print(result4)"
   ]
  },
  {
   "cell_type": "code",
   "execution_count": 7,
   "metadata": {},
   "outputs": [
    {
     "name": "stdout",
     "output_type": "stream",
     "text": [
      "30.00\n"
     ]
    }
   ],
   "source": [
    "result4 = re.search(r'\\d*\\.\\d*', text4).group()\n",
    "print(result4)"
   ]
  },
  {
   "cell_type": "code",
   "execution_count": 15,
   "metadata": {},
   "outputs": [
    {
     "data": {
      "text/plain": [
       "'30'"
      ]
     },
     "execution_count": 15,
     "metadata": {},
     "output_type": "execute_result"
    }
   ],
   "source": [
    "re.search(r'\\d+', text4).group()"
   ]
  },
  {
   "cell_type": "code",
   "execution_count": 4,
   "metadata": {},
   "outputs": [
    {
     "data": {
      "text/plain": [
       "<re.Match object; span=(0, 5), match='13.80'>"
      ]
     },
     "execution_count": 4,
     "metadata": {},
     "output_type": "execute_result"
    }
   ],
   "source": [
    "re.search(r'\\d+(\\.\\d*)?', text1)"
   ]
  },
  {
   "cell_type": "code",
   "execution_count": 7,
   "metadata": {},
   "outputs": [
    {
     "name": "stdout",
     "output_type": "stream",
     "text": [
      "<class 're.Match'>\n"
     ]
    }
   ],
   "source": [
    "print(type(re.search(r'\\d+(\\.\\d*)?', text1)))"
   ]
  },
  {
   "cell_type": "code",
   "execution_count": 8,
   "metadata": {},
   "outputs": [
    {
     "data": {
      "text/plain": [
       "13.8"
      ]
     },
     "execution_count": 8,
     "metadata": {},
     "output_type": "execute_result"
    }
   ],
   "source": [
    "float(re.search(r'\\d+(\\.\\d*)?', text1).group())"
   ]
  },
  {
   "cell_type": "code",
   "execution_count": null,
   "metadata": {},
   "outputs": [],
   "source": []
  }
 ],
 "metadata": {
  "kernelspec": {
   "display_name": "base",
   "language": "python",
   "name": "python3"
  },
  "language_info": {
   "codemirror_mode": {
    "name": "ipython",
    "version": 3
   },
   "file_extension": ".py",
   "mimetype": "text/x-python",
   "name": "python",
   "nbconvert_exporter": "python",
   "pygments_lexer": "ipython3",
   "version": "3.9.7"
  }
 },
 "nbformat": 4,
 "nbformat_minor": 2
}
